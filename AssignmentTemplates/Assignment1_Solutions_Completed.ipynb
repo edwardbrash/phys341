{
  "nbformat": 4,
  "nbformat_minor": 0,
  "metadata": {
    "kernelspec": {
      "display_name": "Python 3",
      "language": "python",
      "name": "python3"
    },
    "language_info": {
      "codemirror_mode": {
        "name": "ipython",
        "version": 3
      },
      "file_extension": ".py",
      "mimetype": "text/x-python",
      "name": "python",
      "nbconvert_exporter": "python",
      "pygments_lexer": "ipython3",
      "version": "3.6.8"
    },
    "colab": {
      "name": "Assignment1_Solutions_Template.ipynb",
      "provenance": []
    }
  },
  "cells": [
    {
      "cell_type": "markdown",
      "metadata": {
        "id": "4qSDnbLEljLh",
        "colab_type": "text"
      },
      "source": [
        "# Assignment 1 Solutions"
      ]
    },
    {
      "cell_type": "code",
      "metadata": {
        "id": "4kq_l_0tljLj",
        "colab_type": "code",
        "colab": {}
      },
      "source": [
        "# Import the required packages, \n",
        "# with their conventional names \n",
        "import matplotlib.pyplot as plt \n",
        "import numpy as np \n",
        "import scipy.stats as stats"
      ],
      "execution_count": 1,
      "outputs": []
    },
    {
      "cell_type": "markdown",
      "metadata": {
        "id": "nS6IkdM6ljLp",
        "colab_type": "text"
      },
      "source": [
        "# Question 1:  \n",
        "\n",
        "A cat is launched from the top of the Trible library with zero initial velocity, and lands, unharmed, on the ground below time later. The height of the Trible library is measured to be (21.2 +/- 0.4) m. The time is measured to be (2.04 +/- 0.05) s.\n",
        "\n",
        "(a) What is the measured value of the acceleration due to gravity, ignoring air resistance?\n",
        "\n",
        "(b) Assuming that the uncertainties quoted above follow a uniform error distribution, what is the measured uncertainty in the acceleration due to gravity?\n",
        "\n",
        "(c) Assuming that the uncertainties quoted above follow a Gaussian error distribution, what is the measured uncertainty in the acceleration due to gravity?"
      ]
    },
    {
      "cell_type": "code",
      "metadata": {
        "id": "eZ0NGciRljLq",
        "colab_type": "code",
        "colab": {
          "base_uri": "https://localhost:8080/",
          "height": 34
        },
        "outputId": "ca0def45-3c6e-44c1-c280-511d4e71384b"
      },
      "source": [
        "h = 20.8\n",
        "t = 2.21\n",
        "dh = 0.2\n",
        "dt = 0.05\n",
        "\n",
        "g = 2*h/t**2\n",
        "\n",
        "print (g)"
      ],
      "execution_count": 3,
      "outputs": [
        {
          "output_type": "stream",
          "text": [
            "8.517434122970455\n"
          ],
          "name": "stdout"
        }
      ]
    },
    {
      "cell_type": "code",
      "metadata": {
        "id": "7u8bEVKnljLt",
        "colab_type": "code",
        "colab": {}
      },
      "source": [
        ""
      ],
      "execution_count": 2,
      "outputs": []
    },
    {
      "cell_type": "code",
      "metadata": {
        "id": "cpN1MqM9ljLx",
        "colab_type": "code",
        "colab": {}
      },
      "source": [
        ""
      ],
      "execution_count": 2,
      "outputs": []
    },
    {
      "cell_type": "code",
      "metadata": {
        "id": "620LbCHIljL2",
        "colab_type": "code",
        "colab": {}
      },
      "source": [
        ""
      ],
      "execution_count": 2,
      "outputs": []
    },
    {
      "cell_type": "markdown",
      "metadata": {
        "id": "tOMrJoEmljL5",
        "colab_type": "text"
      },
      "source": [
        "# Question 2: \n",
        "\n",
        "Airlines sometimes overbook flights. Suppose that for a plane with 50 seats, 55 passengers have tickets. Define the random variable Y as the number of ticketed passengers who actually show up for the flight. The probability mass function of Y appears in the accompanying table.\n",
        "\n",
        "(a) What is the probability that the flight will accommodate all ticketed passengers who show up?\n",
        "\n",
        "(b) What is the probability that not all ticketed passengers who show up can be accommodated?\n",
        "\n",
        "(c) If you are the first person on the standby list (which means you will be the first one to get on the plane if there are any seats available after all ticketed passengers have been accommodated), what is the probability that you will be able to take the flight? \n",
        "\n",
        "What is this probability if you are the third person on the standby list?"
      ]
    },
    {
      "cell_type": "code",
      "metadata": {
        "id": "_Aqj6BnRljL6",
        "colab_type": "code",
        "colab": {}
      },
      "source": [
        ""
      ],
      "execution_count": 2,
      "outputs": []
    },
    {
      "cell_type": "code",
      "metadata": {
        "id": "LLOix-idljL9",
        "colab_type": "code",
        "colab": {}
      },
      "source": [
        ""
      ],
      "execution_count": 2,
      "outputs": []
    },
    {
      "cell_type": "code",
      "metadata": {
        "id": "zHdFwVbEljMA",
        "colab_type": "code",
        "colab": {}
      },
      "source": [
        ""
      ],
      "execution_count": 2,
      "outputs": []
    },
    {
      "cell_type": "code",
      "metadata": {
        "id": "t-4haEGbljME",
        "colab_type": "code",
        "colab": {}
      },
      "source": [
        ""
      ],
      "execution_count": 2,
      "outputs": []
    },
    {
      "cell_type": "markdown",
      "metadata": {
        "id": "jJZO1vbuljMG",
        "colab_type": "text"
      },
      "source": [
        "# Question 3: \n",
        "\n",
        "A mail-order company business has six telephone lines. Let X denote the number of lines in use at a specified time. Suppose the pmf of X is as given in the accompanying table.\n",
        "\n",
        "\n",
        "Calculate the probability of each of the following events.\n",
        "\n",
        "(a) {at most three lines are in use}\n",
        "\n",
        "(b) {fewer than three lines are in use}\n",
        "\n",
        "(c) {at least three lines are in use}\n",
        "\n",
        "(d) {between two and five lines, inclusive, are in use}\n",
        "\n",
        "(e) {between two and four lines, inclusive, are not in use}\n",
        "\n",
        "(f) {at least four lines are not in use}"
      ]
    },
    {
      "cell_type": "code",
      "metadata": {
        "id": "RHFooDdbljMH",
        "colab_type": "code",
        "colab": {}
      },
      "source": [
        ""
      ],
      "execution_count": 2,
      "outputs": []
    },
    {
      "cell_type": "code",
      "metadata": {
        "id": "jQ-vOBJJljMJ",
        "colab_type": "code",
        "colab": {}
      },
      "source": [
        ""
      ],
      "execution_count": 2,
      "outputs": []
    },
    {
      "cell_type": "markdown",
      "metadata": {
        "id": "EBxuAr_RljMM",
        "colab_type": "text"
      },
      "source": [
        "# Question 4: \n",
        "\n",
        "Compute the following binomial probabilities directly from the formula for b(x; n, p).\n",
        "\n",
        "(a) b(3; 5, 0.48)\n",
        "\n",
        "(b) b(2; 7, 0.77)\n",
        "\n",
        "(c) P(3 <= X <= 5) when n = 9 and p = 0.76\n",
        "\n",
        "(d) P(1 <= X) when n = 12 and p = 0.14"
      ]
    },
    {
      "cell_type": "code",
      "metadata": {
        "id": "p9tBV3RpljMN",
        "colab_type": "code",
        "colab": {}
      },
      "source": [
        ""
      ],
      "execution_count": 2,
      "outputs": []
    },
    {
      "cell_type": "code",
      "metadata": {
        "id": "quZaVrm1ljMQ",
        "colab_type": "code",
        "colab": {}
      },
      "source": [
        ""
      ],
      "execution_count": 2,
      "outputs": []
    },
    {
      "cell_type": "code",
      "metadata": {
        "id": "MuTGe83WljMT",
        "colab_type": "code",
        "colab": {}
      },
      "source": [
        ""
      ],
      "execution_count": 2,
      "outputs": []
    },
    {
      "cell_type": "code",
      "metadata": {
        "id": "7I8rXIy5ljMY",
        "colab_type": "code",
        "colab": {}
      },
      "source": [
        ""
      ],
      "execution_count": 2,
      "outputs": []
    },
    {
      "cell_type": "code",
      "metadata": {
        "id": "DGbMesMnljMa",
        "colab_type": "code",
        "colab": {}
      },
      "source": [
        ""
      ],
      "execution_count": 2,
      "outputs": []
    },
    {
      "cell_type": "markdown",
      "metadata": {
        "id": "eCLl3ZXIljMd",
        "colab_type": "text"
      },
      "source": [
        "# Question 5:\n",
        "\n",
        "When circuit boards used in the manufacture of compact disc players are tested, the long-run percentage of defectives is 10%. Let X = the number of defective boards in a random sample of size n = 25, so X ~ Bin(25, 0.10).\n",
        "\n",
        "(a) Determine P(X <= 2).\n",
        "\n",
        "(b) Determine P(X >= 5).\n",
        "\n",
        "(c) Determine P(1 <= X <= 4).\n",
        "\n",
        "(d) What is the probability that none of the 25 boards is defective?\n",
        "\n",
        "(e) Calculate the expected value and standard deviation of X."
      ]
    },
    {
      "cell_type": "code",
      "metadata": {
        "id": "AmakrWXhljMd",
        "colab_type": "code",
        "colab": {}
      },
      "source": [
        ""
      ],
      "execution_count": 2,
      "outputs": []
    },
    {
      "cell_type": "code",
      "metadata": {
        "id": "mMjob1gjljMg",
        "colab_type": "code",
        "colab": {}
      },
      "source": [
        ""
      ],
      "execution_count": 2,
      "outputs": []
    },
    {
      "cell_type": "code",
      "metadata": {
        "id": "D8aYqLikljMj",
        "colab_type": "code",
        "colab": {}
      },
      "source": [
        ""
      ],
      "execution_count": 2,
      "outputs": []
    },
    {
      "cell_type": "code",
      "metadata": {
        "id": "2uiHUg2CljMm",
        "colab_type": "code",
        "colab": {}
      },
      "source": [
        ""
      ],
      "execution_count": 2,
      "outputs": []
    },
    {
      "cell_type": "code",
      "metadata": {
        "id": "ATpwJu4xljMp",
        "colab_type": "code",
        "colab": {}
      },
      "source": [
        ""
      ],
      "execution_count": 2,
      "outputs": []
    },
    {
      "cell_type": "code",
      "metadata": {
        "id": "Kxd1RanZljMr",
        "colab_type": "code",
        "colab": {}
      },
      "source": [
        ""
      ],
      "execution_count": 2,
      "outputs": []
    },
    {
      "cell_type": "code",
      "metadata": {
        "id": "bYz4zVpmljMt",
        "colab_type": "code",
        "colab": {}
      },
      "source": [
        ""
      ],
      "execution_count": 2,
      "outputs": []
    },
    {
      "cell_type": "markdown",
      "metadata": {
        "id": "nVkyhGQ7ljMw",
        "colab_type": "text"
      },
      "source": [
        "# Question 6:\n",
        "\n",
        "An airport limousine can accommodate up to four passengers on any one trip. The company will accept a maximum of six reservations for a trip, and a passenger must have a reservation. From previous records, 40% of all those making reservations do not appear for the trip. Answer the following questions, assuming independence wherever appropriate.\n",
        "\n",
        "(a) If six reservations are made, what is the probability that at least one individual with a reservation cannot be accommodated on the trip?\n",
        "\n",
        "(b) If six reservations are made, what is the expected number of available places when the limousine departs?\n",
        "Your answer is incorrect.\n",
        "\n",
        "(c) Suppose the probability distribution of the number of reservations made is given in the accompanying table.\n",
        "\n",
        "Number of reservations    \t3      4\t 5\t   6\n",
        "\n",
        "Probability\t                0.09   0.24  0.33  0.34    \n",
        "\n",
        "Let X denote the number of passengers on a randomly selected trip. Obtain the probability mass function of X."
      ]
    },
    {
      "cell_type": "code",
      "metadata": {
        "id": "dx4RpkXAljMx",
        "colab_type": "code",
        "colab": {}
      },
      "source": [
        ""
      ],
      "execution_count": 2,
      "outputs": []
    },
    {
      "cell_type": "code",
      "metadata": {
        "id": "8yhSSsKmljM0",
        "colab_type": "code",
        "colab": {}
      },
      "source": [
        ""
      ],
      "execution_count": 2,
      "outputs": []
    },
    {
      "cell_type": "code",
      "metadata": {
        "id": "x1ElyAVfljM3",
        "colab_type": "code",
        "colab": {}
      },
      "source": [
        "\n",
        "        "
      ],
      "execution_count": 2,
      "outputs": []
    },
    {
      "cell_type": "code",
      "metadata": {
        "id": "nJuUfgQxljM6",
        "colab_type": "code",
        "colab": {}
      },
      "source": [
        ""
      ],
      "execution_count": 2,
      "outputs": []
    },
    {
      "cell_type": "markdown",
      "metadata": {
        "id": "AZ6NGR8nljM8",
        "colab_type": "text"
      },
      "source": [
        "# Question 7:\n",
        "\n",
        "Let X, the number of flaws on the surface of a randomly selected boiler of a certain type, have a Poisson distribution with parameter λ = 3. Compute the following probabilities.\n",
        "\n",
        "(a) P(X ≤ 8)\n",
        "\n",
        "(b) P(X = 8)\n",
        "\n",
        "(c) P(9 ≤ X)\n",
        "\n",
        "(d) P(5 ≤ X ≤ 8)\n",
        "\n",
        "(e) P(5 < X < 8)"
      ]
    },
    {
      "cell_type": "code",
      "metadata": {
        "id": "5eT1Uu-0ljM9",
        "colab_type": "code",
        "colab": {}
      },
      "source": [
        ""
      ],
      "execution_count": 2,
      "outputs": []
    },
    {
      "cell_type": "code",
      "metadata": {
        "id": "89p77Cv2ljM_",
        "colab_type": "code",
        "colab": {}
      },
      "source": [
        ""
      ],
      "execution_count": 2,
      "outputs": []
    },
    {
      "cell_type": "markdown",
      "metadata": {
        "id": "80snarAUljNB",
        "colab_type": "text"
      },
      "source": [
        "# Question 8\n",
        "\n",
        "Consider writing onto a computer disk and then sending it through a certifier that counts the number of missing pulses. Suppose this number X has a Poisson distribution with parameter λ = 0.19.\n",
        "\n",
        "(a) What is the probability that a disk has exactly one missing pulse?\n",
        "\n",
        "(b) What is the probability that a disk has at least two missing pulses?\n",
        "\n",
        "(c) If two disks are independently selected, what is the probability that neither contains a missing pulse?"
      ]
    },
    {
      "cell_type": "code",
      "metadata": {
        "id": "aDvl3xBmljNC",
        "colab_type": "code",
        "colab": {}
      },
      "source": [
        ""
      ],
      "execution_count": 2,
      "outputs": []
    },
    {
      "cell_type": "code",
      "metadata": {
        "id": "LSndqMbSljNE",
        "colab_type": "code",
        "colab": {}
      },
      "source": [
        ""
      ],
      "execution_count": 2,
      "outputs": []
    },
    {
      "cell_type": "markdown",
      "metadata": {
        "id": "alxBKGE8ljNH",
        "colab_type": "text"
      },
      "source": [
        "# Question 9\n",
        "\n",
        "In proof testing of circuit boards, the probability that any particular diode will fail is 0.01. Suppose a circuit board contains 150 diodes.\n",
        "\n",
        "(a) How many diodes would you expect to fail?\n",
        "\n",
        "What is the standard deviation of the number that are expected to fail?\n",
        "\n",
        "(b) What is the (approximate) probability that at least four diodes will fail on a randomly selected board? (Use binomial approximation.)\n",
        "\n",
        "(c) If five boards are shipped to a particular customer, how likely is it that at least four of them will work properly? (A board works properly only if all its diodes work.)"
      ]
    },
    {
      "cell_type": "code",
      "metadata": {
        "id": "WBl4shkIljNI",
        "colab_type": "code",
        "colab": {}
      },
      "source": [
        ""
      ],
      "execution_count": 2,
      "outputs": []
    },
    {
      "cell_type": "code",
      "metadata": {
        "id": "SDGxOkwYljNK",
        "colab_type": "code",
        "colab": {}
      },
      "source": [
        ""
      ],
      "execution_count": 2,
      "outputs": []
    },
    {
      "cell_type": "code",
      "metadata": {
        "id": "P9j4n7oAljNM",
        "colab_type": "code",
        "colab": {}
      },
      "source": [
        ""
      ],
      "execution_count": 2,
      "outputs": []
    },
    {
      "cell_type": "code",
      "metadata": {
        "id": "Yv5c4z6hljNO",
        "colab_type": "code",
        "colab": {}
      },
      "source": [
        ""
      ],
      "execution_count": 2,
      "outputs": []
    },
    {
      "cell_type": "code",
      "metadata": {
        "id": "acZ6hgeSljNQ",
        "colab_type": "code",
        "colab": {}
      },
      "source": [
        ""
      ],
      "execution_count": 2,
      "outputs": []
    },
    {
      "cell_type": "code",
      "metadata": {
        "id": "dwNc4HnBljNT",
        "colab_type": "code",
        "colab": {}
      },
      "source": [
        ""
      ],
      "execution_count": 2,
      "outputs": []
    },
    {
      "cell_type": "code",
      "metadata": {
        "id": "kmIynE2XljNW",
        "colab_type": "code",
        "colab": {}
      },
      "source": [
        ""
      ],
      "execution_count": 2,
      "outputs": []
    }
  ]
}